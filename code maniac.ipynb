{
 "cells": [
  {
   "cell_type": "code",
   "execution_count": 1,
   "id": "1ec06baf",
   "metadata": {},
   "outputs": [],
   "source": [
    "import numpy as np"
   ]
  },
  {
   "cell_type": "code",
   "execution_count": 4,
   "id": "1f49d565",
   "metadata": {},
   "outputs": [
    {
     "name": "stdout",
     "output_type": "stream",
     "text": [
      "[ 26 ]\n"
     ]
    }
   ],
   "source": [
    "l1=np.array([2,4,6])\n",
    "l2=np.array([3,5,6])\n",
    "c=np.sum([l1,l2])#c=l1+l2\n",
    "print(c)"
   ]
  },
  {
   "cell_type": "code",
   "execution_count": 12,
   "id": "83b2d32c",
   "metadata": {},
   "outputs": [
    {
     "name": "stdout",
     "output_type": "stream",
     "text": [
      "enter a stringaaaaabc\n",
      "aaaaa\n"
     ]
    }
   ],
   "source": [
    "import re\n",
    "pattRegex = re.compile(r'a*')#* denotes zero or more occureneces\n",
    "s=input(\"enter a string\")\n",
    "mo = pattRegex.search(s)\n",
    "print(mo.group())"
   ]
  },
  {
   "cell_type": "code",
   "execution_count": 19,
   "id": "1818564a",
   "metadata": {},
   "outputs": [
    {
     "name": "stdout",
     "output_type": "stream",
     "text": [
      "enter a stringabc\n",
      "abc\n",
      "True\n"
     ]
    }
   ],
   "source": [
    "pattRegex1 = re.compile(r'.*')#. denotes single char\n",
    "s1=input(\"enter a string\")\n",
    "mo1 = pattRegex1.search(s1)\n",
    "print(mo1.group())\n",
    "if mo1==None:\n",
    "    print(\"False\")\n",
    "else:\n",
    "    print(\"True\")\n"
   ]
  },
  {
   "cell_type": "code",
   "execution_count": 20,
   "id": "86e90329",
   "metadata": {},
   "outputs": [],
   "source": []
  },
  {
   "cell_type": "code",
   "execution_count": null,
   "id": "87c2b339",
   "metadata": {},
   "outputs": [],
   "source": []
  }
 ],
 "metadata": {
  "kernelspec": {
   "display_name": "Python 3 (ipykernel)",
   "language": "python",
   "name": "python3"
  },
  "language_info": {
   "codemirror_mode": {
    "name": "ipython",
    "version": 3
   },
   "file_extension": ".py",
   "mimetype": "text/x-python",
   "name": "python",
   "nbconvert_exporter": "python",
   "pygments_lexer": "ipython3",
   "version": "3.9.12"
  }
 },
 "nbformat": 4,
 "nbformat_minor": 5
}
