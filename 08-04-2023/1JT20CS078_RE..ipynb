{
 "cells": [
  {
   "cell_type": "code",
   "execution_count": 1,
   "id": "35b6fc68",
   "metadata": {},
   "outputs": [],
   "source": [
    "import numpy as np"
   ]
  },
  {
   "cell_type": "code",
   "execution_count": 17,
   "id": "e6d0fd1e",
   "metadata": {},
   "outputs": [
    {
     "name": "stdout",
     "output_type": "stream",
     "text": [
      "26\n"
     ]
    }
   ],
   "source": [
    "a=np.array([2,4,6])\n",
    "b=np.array([3,5,6])\n",
    "print(np.sum([a,b]))"
   ]
  },
  {
   "cell_type": "code",
   "execution_count": 18,
   "id": "99a94134",
   "metadata": {},
   "outputs": [
    {
     "data": {
      "text/plain": [
       "array([ 5,  9, 12])"
      ]
     },
     "execution_count": 18,
     "metadata": {},
     "output_type": "execute_result"
    }
   ],
   "source": [
    "a+b"
   ]
  },
  {
   "cell_type": "code",
   "execution_count": 10,
   "id": "f13787ca",
   "metadata": {},
   "outputs": [
    {
     "name": "stdout",
     "output_type": "stream",
     "text": [
      "99\n"
     ]
    }
   ],
   "source": [
    "x=np.array([9,9,9,9,9,9,9])\n",
    "y=np.array([9,9,9,9,0,0,0])\n",
    "print(np.sum([x,y]))"
   ]
  },
  {
   "cell_type": "code",
   "execution_count": 19,
   "id": "c186a1f8",
   "metadata": {},
   "outputs": [
    {
     "data": {
      "text/plain": [
       "array([18, 18, 18, 18,  9,  9,  9])"
      ]
     },
     "execution_count": 19,
     "metadata": {},
     "output_type": "execute_result"
    }
   ],
   "source": [
    "x+y"
   ]
  },
  {
   "cell_type": "code",
   "execution_count": 11,
   "id": "6e1260b5",
   "metadata": {},
   "outputs": [
    {
     "name": "stdout",
     "output_type": "stream",
     "text": [
      "enter a stringaaaaaaqnm\n",
      "aaaaaa\n"
     ]
    }
   ],
   "source": [
    "import re\n",
    "p=re.compile(r'a*')\n",
    "s=input(\"enter a string\")\n",
    "mo=p.search(s)\n",
    "print(mo.group())"
   ]
  },
  {
   "cell_type": "code",
   "execution_count": 15,
   "id": "9b7aa6f3",
   "metadata": {},
   "outputs": [
    {
     "name": "stdout",
     "output_type": "stream",
     "text": [
      "enter a stringaas\n",
      "aa\n"
     ]
    }
   ],
   "source": [
    "import re\n",
    "s=input(\"enter a string\")\n",
    "p=re.search('a.',s)\n",
    "print(p.group())"
   ]
  },
  {
   "cell_type": "code",
   "execution_count": 16,
   "id": "c59023db",
   "metadata": {},
   "outputs": [
    {
     "name": "stdout",
     "output_type": "stream",
     "text": [
      "False\n"
     ]
    }
   ],
   "source": [
    "if p==None:\n",
    "    print(\"True\")\n",
    "else:\n",
    "    print(\"False\")"
   ]
  },
  {
   "cell_type": "code",
   "execution_count": null,
   "id": "dfa47712",
   "metadata": {},
   "outputs": [],
   "source": []
  }
 ],
 "metadata": {
  "kernelspec": {
   "display_name": "Python 3 (ipykernel)",
   "language": "python",
   "name": "python3"
  },
  "language_info": {
   "codemirror_mode": {
    "name": "ipython",
    "version": 3
   },
   "file_extension": ".py",
   "mimetype": "text/x-python",
   "name": "python",
   "nbconvert_exporter": "python",
   "pygments_lexer": "ipython3",
   "version": "3.9.12"
  }
 },
 "nbformat": 4,
 "nbformat_minor": 5
}
