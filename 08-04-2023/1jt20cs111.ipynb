{
 "cells": [
  {
   "cell_type": "code",
   "execution_count": 28,
   "id": "1e6b009d",
   "metadata": {},
   "outputs": [],
   "source": [
    "\n",
    "class ListNode(object):\n",
    "    def __init__(self, val=0, next=None):\n",
    "        self.val = val\n",
    "        self.next = next\n",
    "class Solution(object):\n",
    "    def addTwoNumbers(self, l1, l2):\n",
    "        head = ListNode()\n",
    "        cur = head\n",
    "        carry = 0\n",
    "        while (l1 != None or l2 != None or carry != 0):\n",
    "            l1_val = l1.val if l1 else 0\n",
    "            l2_val = l2.val if l2 else 0\n",
    "            total = l1_value + l2_value + carry\n",
    "            cur.next = ListNode(total % 10)\n",
    "            carry = total // 10\n",
    "           \n",
    "            l1 = l1.next if l1 else None\n",
    "            l2 = l2.next if l2 else None\n",
    "            cur = cur.next\n",
    "        return head.next"
   ]
  },
  {
   "cell_type": "code",
   "execution_count": null,
   "id": "4219f12a",
   "metadata": {},
   "outputs": [],
   "source": []
  }
 ],
 "metadata": {
  "kernelspec": {
   "display_name": "Python 3 (ipykernel)",
   "language": "python",
   "name": "python3"
  },
  "language_info": {
   "codemirror_mode": {
    "name": "ipython",
    "version": 3
   },
   "file_extension": ".py",
   "mimetype": "text/x-python",
   "name": "python",
   "nbconvert_exporter": "python",
   "pygments_lexer": "ipython3",
   "version": "3.9.12"
  }
 },
 "nbformat": 4,
 "nbformat_minor": 5
}
